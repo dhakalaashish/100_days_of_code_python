{
 "cells": [
  {
   "cell_type": "code",
   "execution_count": 19,
   "id": "44abb571",
   "metadata": {},
   "outputs": [],
   "source": [
    "combined_name = \"Krishab\".upper() + \"Susmita\".upper()\n",
    "true_digit = str(sum([1 if letter == \"T\" or letter == \"R\" or letter == \"U\" or letter == \"E\" else 0 for letter in combined_name]))\n",
    "love_digit = str(sum([1 if letter == \"L\" or letter == \"O\" or letter == \"V\" or letter == \"E\" else 0 for letter in combined_name]))"
   ]
  },
  {
   "cell_type": "code",
   "execution_count": 21,
   "id": "8b2addb9",
   "metadata": {},
   "outputs": [
    {
     "data": {
      "text/plain": [
       "'30'"
      ]
     },
     "execution_count": 21,
     "metadata": {},
     "output_type": "execute_result"
    }
   ],
   "source": [
    "love_compatibility = true_digit + love_digit\n",
    "love_compatibility"
   ]
  },
  {
   "cell_type": "code",
   "execution_count": 23,
   "id": "67cf6ea5",
   "metadata": {},
   "outputs": [
    {
     "data": {
      "text/plain": [
       "False"
      ]
     },
     "execution_count": 23,
     "metadata": {},
     "output_type": "execute_result"
    }
   ],
   "source": [
    "8 <= 7"
   ]
  },
  {
   "cell_type": "code",
   "execution_count": null,
   "id": "528089dc",
   "metadata": {},
   "outputs": [],
   "source": []
  }
 ],
 "metadata": {
  "kernelspec": {
   "display_name": "Python 3 (ipykernel)",
   "language": "python",
   "name": "python3"
  },
  "language_info": {
   "codemirror_mode": {
    "name": "ipython",
    "version": 3
   },
   "file_extension": ".py",
   "mimetype": "text/x-python",
   "name": "python",
   "nbconvert_exporter": "python",
   "pygments_lexer": "ipython3",
   "version": "3.9.13"
  }
 },
 "nbformat": 4,
 "nbformat_minor": 5
}
